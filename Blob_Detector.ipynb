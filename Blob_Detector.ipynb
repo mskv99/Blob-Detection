{
  "nbformat": 4,
  "nbformat_minor": 0,
  "metadata": {
    "colab": {
      "provenance": [],
      "authorship_tag": "ABX9TyOnR6WqiwGOkBUJErW07FXU",
      "include_colab_link": true
    },
    "kernelspec": {
      "name": "python3",
      "display_name": "Python 3"
    },
    "language_info": {
      "name": "python"
    }
  },
  "cells": [
    {
      "cell_type": "markdown",
      "metadata": {
        "id": "view-in-github",
        "colab_type": "text"
      },
      "source": [
        "<a href=\"https://colab.research.google.com/github/mskv99/Blob-Detection/blob/main/Blob_Detector.ipynb\" target=\"_parent\"><img src=\"https://colab.research.google.com/assets/colab-badge.svg\" alt=\"Open In Colab\"/></a>"
      ]
    },
    {
      "cell_type": "markdown",
      "source": [
        "# Effective blob detector for Scanning Electron Microscope Images"
      ],
      "metadata": {
        "id": "_hLiKify7tB4"
      }
    },
    {
      "cell_type": "markdown",
      "source": [
        "Clone the repository"
      ],
      "metadata": {
        "id": "_ijP3rEE75re"
      }
    },
    {
      "cell_type": "code",
      "source": [
        "!git clone https://github.com/mskv99/Blob-Detection.git"
      ],
      "metadata": {
        "colab": {
          "base_uri": "https://localhost:8080/"
        },
        "id": "71ZVzMNR72ao",
        "outputId": "f74a3123-27d4-472f-e24e-2ababdfcd717"
      },
      "execution_count": 1,
      "outputs": [
        {
          "output_type": "stream",
          "name": "stdout",
          "text": [
            "Cloning into 'Blob-Detection'...\n",
            "remote: Enumerating objects: 32, done.\u001b[K\n",
            "remote: Counting objects: 100% (32/32), done.\u001b[K\n",
            "remote: Compressing objects: 100% (32/32), done.\u001b[K\n",
            "remote: Total 32 (delta 11), reused 8 (delta 0), pack-reused 0\u001b[K\n",
            "Receiving objects: 100% (32/32), 6.18 MiB | 19.19 MiB/s, done.\n",
            "Resolving deltas: 100% (11/11), done.\n"
          ]
        }
      ]
    },
    {
      "cell_type": "code",
      "source": [
        "%cd /content/Blob-Detection/"
      ],
      "metadata": {
        "colab": {
          "base_uri": "https://localhost:8080/"
        },
        "id": "aheoTN228t-P",
        "outputId": "ee5e4857-7857-4bc2-90d6-6db48015052f"
      },
      "execution_count": 5,
      "outputs": [
        {
          "output_type": "stream",
          "name": "stdout",
          "text": [
            "/content/Blob-Detection\n"
          ]
        }
      ]
    },
    {
      "cell_type": "markdown",
      "source": [
        "Import libraries"
      ],
      "metadata": {
        "id": "hSkxqAPo-mvS"
      }
    },
    {
      "cell_type": "code",
      "source": [
        "import numpy as np\n",
        "\n",
        "from google.colab.patches import cv2_imshow\n",
        "\n",
        "import cv2\n",
        "from kernel_detection import matrix_summ, kernel_detector\n"
      ],
      "metadata": {
        "id": "UbP3I0t58WiE"
      },
      "execution_count": 12,
      "outputs": []
    },
    {
      "cell_type": "markdown",
      "source": [
        "Define the input/output path for the image and a `SAVE_RESULT` flag, depending on whether you want to save result after removing blobs or not:"
      ],
      "metadata": {
        "id": "S8_y3epc_JGY"
      }
    },
    {
      "cell_type": "code",
      "source": [
        "INPUT_IMAGE_PATH = '/content/Blob-Detection/examples/orig_1.tif'\n",
        "\n",
        "SAVE_RESULT = True\n",
        "\n",
        "OUTPUT_IMAGE_PATH = '/content/removed_blobs_sample.jpg'"
      ],
      "metadata": {
        "id": "NLTkDcu-9VBH"
      },
      "execution_count": 15,
      "outputs": []
    },
    {
      "cell_type": "markdown",
      "source": [
        "Read and preprocess image:\n",
        "\n",
        "* converting to grayscale format;\n",
        "* apply bilateral filter\n",
        "* binarize the image\n",
        "* make an BGR copy of the image\n",
        "\n"
      ],
      "metadata": {
        "id": "h8LI3QF8-qKU"
      }
    },
    {
      "cell_type": "code",
      "source": [
        "sample = cv2.imread(INPUT_IMAGE_PATH)\n",
        "\n",
        "sample = cv2.cvtColor(sample, cv2.COLOR_BGR2GRAY)\n",
        "sample = cv2.bilateralFilter(sample, 0, 10, 10)\n",
        "\n",
        "thresh = 190\n",
        "maxValue = 255\n",
        "ret, img = cv2.threshold(sample, thresh, maxValue, cv2.THRESH_BINARY)\n",
        "\n",
        "print(f'Image size:{img.shape}')\n",
        "\n",
        "height = img.shape[0]\n",
        "width = img.shape[1]\n",
        "blobs_list = []\n",
        "\n",
        "color = cv2.cvtColor(img, cv2.COLOR_GRAY2BGR)\n",
        "image_copy = color.copy()\n",
        "\n",
        "cv2_imshow(img[:512, :512]) #thresholding operation"
      ],
      "metadata": {
        "colab": {
          "base_uri": "https://localhost:8080/",
          "height": 544
        },
        "id": "SUPV0teW9wZD",
        "outputId": "ddbd7bda-9f4f-4f8f-f00d-fdd3f58dd15a"
      },
      "execution_count": 23,
      "outputs": [
        {
          "output_type": "stream",
          "name": "stdout",
          "text": [
            "Image size:(1024, 1024)\n"
          ]
        },
        {
          "output_type": "display_data",
          "data": {
            "text/plain": [
              "<PIL.Image.Image image mode=L size=512x512>"
            ],
            "image/png": "[encoded data removed]"
          },
          "metadata": {}
        }
      ]
    },
    {
      "cell_type": "markdown",
      "source": [
        "Remove blobs from image with 7x7 filter:"
      ],
      "metadata": {
        "id": "FIl4MPDCAIv4"
      }
    },
    {
      "cell_type": "code",
      "source": [
        "kernel_detector(kernel_size = 7, image_height = height, image_width = width, img=img, img_copy= image_copy, blobs_list=blobs_list)\n",
        "cv2_imshow(image_copy[:512, :512]) #\"Removing blobs with 7x7 filter\","
      ],
      "metadata": {
        "colab": {
          "base_uri": "https://localhost:8080/",
          "height": 528
        },
        "id": "-7s9AHs19-jQ",
        "outputId": "84172e11-bd76-483d-e9af-155b4c5bd8b0"
      },
      "execution_count": 24,
      "outputs": [
        {
          "output_type": "display_data",
          "data": {
            "text/plain": [
              "<PIL.Image.Image image mode=RGB size=512x512>"
            ],
            "image/png": "[encoded data removed]"
          },
          "metadata": {}
        }
      ]
    },
    {
      "cell_type": "markdown",
      "source": [
        "Remove blobs with 13x13 filter"
      ],
      "metadata": {
        "id": "n1oZKr70AQBH"
      }
    },
    {
      "cell_type": "code",
      "source": [
        "kernel_detector(kernel_size = 13, image_height = height, image_width = width, img=img, img_copy = image_copy, blobs_list= blobs_list)\n",
        "cv2_imshow(image_copy[:512, :512])"
      ],
      "metadata": {
        "colab": {
          "base_uri": "https://localhost:8080/",
          "height": 528
        },
        "id": "J9iksvAQ_sh1",
        "outputId": "ccd7177c-c8d2-4f3b-c246-a12bd8eac0e8"
      },
      "execution_count": 25,
      "outputs": [
        {
          "output_type": "display_data",
          "data": {
            "text/plain": [
              "<PIL.Image.Image image mode=RGB size=512x512>"
            ],
            "image/png": "[encoded data removed]"
          },
          "metadata": {}
        }
      ]
    },
    {
      "cell_type": "markdown",
      "source": [
        "Save the binarized image with removed blobs:"
      ],
      "metadata": {
        "id": "_Tcv3C-yAtW5"
      }
    },
    {
      "cell_type": "code",
      "source": [
        "if SAVE_RESULT:\n",
        "    cv2.imwrite(OUTPUT_IMAGE_PATH, image_copy)"
      ],
      "metadata": {
        "id": "1l9S1hC1AexX"
      },
      "execution_count": 16,
      "outputs": []
    },
    {
      "cell_type": "markdown",
      "source": [
        "Highlight the detected blobs and observe the number of detected blobs:"
      ],
      "metadata": {
        "id": "cs0YxtYEAzVX"
      }
    },
    {
      "cell_type": "code",
      "source": [
        "array = np.array(blobs_list, dtype = int)\n",
        "res = array.reshape(int(len(blobs_list)/2), 2)\n",
        "print(\"Количество выбросов:\",res.shape[0])\n",
        "\n",
        "for k in range(int((res.size)/2)):\n",
        "    center = (res[k][0],res[k][1])\n",
        "    image_copy = cv2.circle(image_copy, center, 3,(0,0,255),-1)\n",
        "\n",
        "cv2_imshow(image_copy[:512, :512])"
      ],
      "metadata": {
        "colab": {
          "base_uri": "https://localhost:8080/",
          "height": 544
        },
        "id": "e3hQrDCO8fTh",
        "outputId": "7e4ee943-34ff-4321-e4f2-ff18cd1639a1"
      },
      "execution_count": 26,
      "outputs": [
        {
          "output_type": "stream",
          "name": "stdout",
          "text": [
            "Количество выбросов: 500\n"
          ]
        },
        {
          "output_type": "display_data",
          "data": {
            "text/plain": [
              "<PIL.Image.Image image mode=RGB size=512x512>"
            ],
            "image/png": "[encoded data removed]"
          },
          "metadata": {}
        }
      ]
    }
  ]
}